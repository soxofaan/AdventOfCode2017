{
 "cells": [
  {
   "cell_type": "markdown",
   "metadata": {},
   "source": [
    "# Advent of code 2017\n",
    "http://adventofcode.com/2017"
   ]
  },
  {
   "cell_type": "markdown",
   "metadata": {},
   "source": [
    "# Day 1: Inverse CAPTCHA"
   ]
  },
  {
   "cell_type": "code",
   "execution_count": 1,
   "metadata": {},
   "outputs": [],
   "source": [
    "data = \"5672987533353956199629683941564528646262567117433461547747793928322958646779832484689174151918261551689221756165598898428736782194511627829355718493723961323272136452517987471351381881946883528248611611258656199812998632682668749683588515362946994415852337196718476219162124978836537348924591957188827929753417884942133844664636969742547717228255739959316351852731598292529837885992781815131876183578461135791315287135243541659853734343376618419952776165544829717676988897684141328138348382882699672957866146524759879236555935723655326743713542931693477824289283542468639522271643257212833248165391957686226311246517978319253977276663825479144321155712866946255992634876158822855382331452649953283788863248192338245943966269197421474555779135168637263279579842885347152287275679811576594376535226167894981226866222987522415785244875882556414956724976341627123557214837873872723618395529735349273241686548287549763993653379539445435319698825465289817663294436458194867278623978745981799283789237555242728291337538498616929817268211698649236646127899982839523784837752863458819965485149812959121884771849954723259365778151788719941888128618552455879369919511319735525621198185634342538848462461833332917986297445388515717463168515123732455576143447454835849565757773325367469763383757677938748319968971312267871619951657267913817242485559771582167295794259441256284168356292785568858527184122231262465193612127961685513913835274823892596923786613299747347259254823531262185328274367529265868856512185135329652635938373266759964119863494798222245536758792389789818646655287856173534479551364115976811459677123592747375296313667253413698823655218254168196162883437389718167743871216373164865426458794239496224858971694877159591215772938396827435289734165853975267521291574436567193473814247981877735223376964125359992555885137816647382139596646856417424617847981855532914872251686719394341764324395254556782277426326331441981737557262581762412544849689472281645835957667217384334435391572985228286537574388834835693416821419655967456137395465649249256572866516984318344482684936625486311718525523265165\""
   ]
  },
  {
   "cell_type": "code",
   "execution_count": 2,
   "metadata": {},
   "outputs": [
    {
     "data": {
      "text/plain": [
       "1136"
      ]
     },
     "execution_count": 2,
     "metadata": {},
     "output_type": "execute_result"
    }
   ],
   "source": [
    "n = len(data)\n",
    "sum(int(c) for (i, c) in enumerate(data) if c == data[(i + 1) % n])"
   ]
  },
  {
   "cell_type": "markdown",
   "metadata": {},
   "source": [
    "## Part 2"
   ]
  },
  {
   "cell_type": "code",
   "execution_count": 3,
   "metadata": {},
   "outputs": [
    {
     "data": {
      "text/plain": [
       "1092"
      ]
     },
     "execution_count": 3,
     "metadata": {},
     "output_type": "execute_result"
    }
   ],
   "source": [
    "sum(int(c) for (i, c) in enumerate(data) if c == data[(i + n // 2) % n])"
   ]
  },
  {
   "cell_type": "markdown",
   "metadata": {},
   "source": [
    "# Day 2: Corruption Checksum"
   ]
  },
  {
   "cell_type": "code",
   "execution_count": 4,
   "metadata": {},
   "outputs": [
    {
     "name": "stdout",
     "output_type": "stream",
     "text": [
      "6046\t6349\t208\t276\t4643\t1085\t1539\t4986\t7006\t5374\t252\t4751\t226\t6757\t7495\t2923\r\n",
      "1432\t1538\t1761\t1658\t104\t826\t806\t109\t939\t886\t1497\t280\t1412\t127\t1651\t156\r\n",
      "244\t1048\t133\t232\t226\t1072\t883\t1045\t1130\t252\t1038\t1022\t471\t70\t1222\t957\r\n"
     ]
    }
   ],
   "source": [
    "!head -n3 data/day02-input.txt"
   ]
  },
  {
   "cell_type": "code",
   "execution_count": 5,
   "metadata": {},
   "outputs": [
    {
     "data": {
      "text/plain": [
       "50376"
      ]
     },
     "execution_count": 5,
     "metadata": {},
     "output_type": "execute_result"
    }
   ],
   "source": [
    "with open('data/day02-input.txt') as f:\n",
    "    spreadsheet = [[int(c) for c in line.split('\\t')] for line in f]\n",
    "sum(max(row) - min(row) for row in spreadsheet)"
   ]
  },
  {
   "cell_type": "markdown",
   "metadata": {},
   "source": [
    "## Part 2"
   ]
  },
  {
   "cell_type": "code",
   "execution_count": 6,
   "metadata": {},
   "outputs": [
    {
     "data": {
      "text/plain": [
       "267.0"
      ]
     },
     "execution_count": 6,
     "metadata": {},
     "output_type": "execute_result"
    }
   ],
   "source": [
    "import itertools\n",
    "sum(\n",
    "    a / b\n",
    "    for row in spreadsheet\n",
    "    for (a, b) in itertools.product(row, row) \n",
    "    if a != b and a % b == 0\n",
    ")"
   ]
  },
  {
   "cell_type": "markdown",
   "metadata": {},
   "source": [
    "# Day 3: Spiral Memory"
   ]
  },
  {
   "cell_type": "code",
   "execution_count": 7,
   "metadata": {},
   "outputs": [],
   "source": [
    "port = 347991"
   ]
  },
  {
   "cell_type": "code",
   "execution_count": 8,
   "metadata": {},
   "outputs": [
    {
     "data": {
      "text/plain": [
       "(295, 1290, 110, 185, 480)"
      ]
     },
     "execution_count": 8,
     "metadata": {},
     "output_type": "execute_result"
    }
   ],
   "source": [
    "# Search spiral radius: smallest r for which port <= (2r + 1)^2\n",
    "import math\n",
    "r = int(math.ceil((math.sqrt(port) - 1) / 2))\n",
    "# Distance to last corner on current spiral\n",
    "dl = (2 * r + 1) ** 2 - port\n",
    "# Distance to next corner\n",
    "dn = dl % (2 * r)\n",
    "# Distance to closest horizontal/vertical axis\n",
    "da = abs(dn - r)\n",
    "# Manhattan distance\n",
    "d = r + da\n",
    "r, dl, dn, da, d"
   ]
  },
  {
   "cell_type": "markdown",
   "metadata": {},
   "source": [
    "## Part 2"
   ]
  },
  {
   "cell_type": "code",
   "execution_count": 9,
   "metadata": {},
   "outputs": [
    {
     "name": "stdout",
     "output_type": "stream",
     "text": [
      "         0     349975     330785     312453     295229     279138     266330     130654\n",
      "      6591       6444       6155       5733       5336       5022       2450     128204\n",
      "     13486        147        142        133        122         59       2391     123363\n",
      "     14267        304          5          4          2         57       2275     116247\n",
      "     15252        330         10          1          1         54       2105     109476\n",
      "     16295        351         11         23         25         26       1968     103128\n",
      "     17008        362        747        806        880        931        957      98098\n",
      "     17370      35487      37402      39835      42452      45220      47108      48065\n"
     ]
    },
    {
     "data": {
      "text/plain": [
       "349975"
      ]
     },
     "execution_count": 9,
     "metadata": {},
     "output_type": "execute_result"
    }
   ],
   "source": [
    "import itertools\n",
    "\n",
    "def spiral_search(threshold):\n",
    "    mem = {}\n",
    "    neighbours = [(-1, -1), (-1, 0), (-1, 1), (0, -1), (0, 1), (1, -1), (1, 0), (1, 1)]\n",
    "    \n",
    "    def calculate(x, y):\n",
    "        mem[x, y] = sum(\n",
    "            mem.get((x + dx, y + dy), 0) \n",
    "            for (dx, dy) in neighbours\n",
    "        )\n",
    "        return mem[x, y]\n",
    "\n",
    "    def walk_spiral(start_radius=1):\n",
    "        for r in itertools.count(start_radius):\n",
    "            x = r\n",
    "            for y in range(-r + 1, r + 1):\n",
    "                yield x, y\n",
    "            y = r\n",
    "            for x in range(r - 1, -r - 1, -1):\n",
    "                yield x, y\n",
    "            x = -r\n",
    "            for y in range(r - 1, - r - 1, -1):\n",
    "                yield x, y\n",
    "            y = -r\n",
    "            for x in range(-r + 1, r + 1):\n",
    "                yield x, y\n",
    "            \n",
    "    # First step\n",
    "    mem[0,0] = 1\n",
    "    \n",
    "    # Higher radiuses\n",
    "    for x, y in walk_spiral(1):\n",
    "        v = calculate(x, y)\n",
    "        if v > threshold:\n",
    "            xs = sorted(set(x for (x, y) in mem.keys()))\n",
    "            ys = sorted(set(y for (x, y) in mem.keys()), reverse=True)\n",
    "            print(\"\\n\".join(\" \".join(\"%10d\" % mem.get((x,y), 0) for x in xs) for y in ys))\n",
    "            \n",
    "            return v\n",
    "\n",
    "\n",
    "spiral_search(347991)"
   ]
  },
  {
   "cell_type": "markdown",
   "metadata": {},
   "source": [
    "# Day 4: High-Entropy Passphrases"
   ]
  },
  {
   "cell_type": "code",
   "execution_count": 10,
   "metadata": {},
   "outputs": [
    {
     "name": "stdout",
     "output_type": "stream",
     "text": [
      "sayndz zfxlkl attjtww cti sokkmty brx fhh suelqbp\r\n",
      "xmuf znkhaes pggrlp zia znkhaes znkhaes\r\n",
      "nti rxr bogebb zdwrin\r\n",
      "sryookh unrudn zrkz jxhrdo gctlyz\r\n",
      "bssqn wbmdc rigc zketu ketichh enkixg bmdwc stnsdf jnz mqovwg ixgken\r\n",
      "flawt cpott xth ucwgg xce jcubx wvl qsysa nlg\r\n",
      "qovcqn zxcz vojsno nqoqvc hnf gqewlkd uevax vuna fxjkbll vfge\r\n",
      "qrzf phwuf ligf xgen vkig elptd njdm gvqiu epfzsvk urbltg dqg\r\n",
      "sfpku viwihi fje umdkwvi ejzhzj qrbl sfpku sad nawnow ksnku\r\n",
      "nzhj mfudick ueaa jnhz kpy pzk\r\n"
     ]
    }
   ],
   "source": [
    "!head data/day04-input.txt"
   ]
  },
  {
   "cell_type": "code",
   "execution_count": 11,
   "metadata": {},
   "outputs": [
    {
     "data": {
      "text/plain": [
       "[['sayndz', 'zfxlkl', 'attjtww', 'cti', 'sokkmty', 'brx', 'fhh', 'suelqbp'],\n",
       " ['xmuf', 'znkhaes', 'pggrlp', 'zia', 'znkhaes', 'znkhaes'],\n",
       " ['nti', 'rxr', 'bogebb', 'zdwrin']]"
      ]
     },
     "execution_count": 11,
     "metadata": {},
     "output_type": "execute_result"
    }
   ],
   "source": [
    "with open('data/day04-input.txt') as f:\n",
    "    phrases = list(line.strip().split() for line in f)\n",
    "\n",
    "phrases[:3]"
   ]
  },
  {
   "cell_type": "code",
   "execution_count": 12,
   "metadata": {},
   "outputs": [
    {
     "data": {
      "text/plain": [
       "383"
      ]
     },
     "execution_count": 12,
     "metadata": {},
     "output_type": "execute_result"
    }
   ],
   "source": [
    "sum(\n",
    "    all(\n",
    "        w1 != w2\n",
    "        for i, w1 in enumerate(phrase[:-1])\n",
    "        for w2 in phrase[i+1:]\n",
    "    )\n",
    "    for phrase in phrases\n",
    ")"
   ]
  },
  {
   "cell_type": "markdown",
   "metadata": {},
   "source": [
    "## Part 2"
   ]
  },
  {
   "cell_type": "code",
   "execution_count": 13,
   "metadata": {},
   "outputs": [
    {
     "data": {
      "text/plain": [
       "[['adnsyz', 'fkllxz', 'ajtttww', 'cit', 'kkmosty', 'brx', 'fhh', 'belpqsu'],\n",
       " ['fmux', 'aehknsz', 'gglppr', 'aiz', 'aehknsz', 'aehknsz'],\n",
       " ['int', 'rrx', 'bbbego', 'dinrwz']]"
      ]
     },
     "execution_count": 13,
     "metadata": {},
     "output_type": "execute_result"
    }
   ],
   "source": [
    "word_sorted_phrases = [\n",
    "    [\"\".join(sorted(word)) for word in phrase]\n",
    "    for phrase in phrases\n",
    "]\n",
    "word_sorted_phrases[:3]"
   ]
  },
  {
   "cell_type": "code",
   "execution_count": 14,
   "metadata": {},
   "outputs": [
    {
     "data": {
      "text/plain": [
       "265"
      ]
     },
     "execution_count": 14,
     "metadata": {},
     "output_type": "execute_result"
    }
   ],
   "source": [
    "sum(\n",
    "    all(\n",
    "        w1 != w2\n",
    "        for i, w1 in enumerate(phrase[:-1])\n",
    "        for w2 in phrase[i+1:]\n",
    "    )\n",
    "    for phrase in word_sorted_phrases\n",
    ")"
   ]
  },
  {
   "cell_type": "markdown",
   "metadata": {},
   "source": [
    "# Day 5: A Maze of Twisty Trampolines, All Alike"
   ]
  },
  {
   "cell_type": "code",
   "execution_count": 15,
   "metadata": {},
   "outputs": [
    {
     "name": "stdout",
     "output_type": "stream",
     "text": [
      "2\r\n",
      "1\r\n",
      "1\r\n",
      "2\r\n",
      "0\r\n",
      "-4\r\n",
      "0\r\n",
      "-4\r\n",
      "0\r\n",
      "0\r\n"
     ]
    }
   ],
   "source": [
    "!head data/day05-input.txt"
   ]
  },
  {
   "cell_type": "code",
   "execution_count": 16,
   "metadata": {},
   "outputs": [
    {
     "name": "stdout",
     "output_type": "stream",
     "text": [
      "1092\n"
     ]
    },
    {
     "data": {
      "text/plain": [
       "([2, 1, 1, 2, 0], [-666, -455, -498, -92, -1030])"
      ]
     },
     "execution_count": 16,
     "metadata": {},
     "output_type": "execute_result"
    }
   ],
   "source": [
    "with open('data/day05-input.txt') as f:\n",
    "    instructions = [int(line) for line in f]\n",
    "\n",
    "n = len(instructions)\n",
    "print(n)\n",
    "\n",
    "instructions[:5], instructions[-5:]"
   ]
  },
  {
   "cell_type": "code",
   "execution_count": 17,
   "metadata": {},
   "outputs": [
    {
     "name": "stdout",
     "output_type": "stream",
     "text": [
      "384 1092 391540\n",
      "CPU times: user 169 ms, sys: 4.43 ms, total: 174 ms\n",
      "Wall time: 171 ms\n"
     ]
    }
   ],
   "source": [
    "%%time\n",
    "cursor = 0\n",
    "steps = 0\n",
    "while 0 <= cursor < n:\n",
    "    offset = instructions[cursor]\n",
    "    instructions[cursor] += 1\n",
    "    cursor += offset\n",
    "    steps += 1\n",
    "\n",
    "print(offset, cursor, steps)"
   ]
  },
  {
   "cell_type": "markdown",
   "metadata": {},
   "source": [
    "## Part 2"
   ]
  },
  {
   "cell_type": "code",
   "execution_count": 18,
   "metadata": {},
   "outputs": [
    {
     "name": "stdout",
     "output_type": "stream",
     "text": [
      "1092\n"
     ]
    },
    {
     "data": {
      "text/plain": [
       "([2, 1, 1, 2, 0], [-666, -455, -498, -92, -1030])"
      ]
     },
     "execution_count": 18,
     "metadata": {},
     "output_type": "execute_result"
    }
   ],
   "source": [
    "with open('data/day05-input.txt') as f:\n",
    "    instructions = [int(line) for line in f]\n",
    "\n",
    "n = len(instructions)\n",
    "print(n)\n",
    "\n",
    "instructions[:5], instructions[-5:]"
   ]
  },
  {
   "cell_type": "code",
   "execution_count": 19,
   "metadata": {},
   "outputs": [
    {
     "name": "stdout",
     "output_type": "stream",
     "text": [
      "2 1092 30513679\n",
      "CPU times: user 14.5 s, sys: 72 ms, total: 14.5 s\n",
      "Wall time: 14.6 s\n"
     ]
    }
   ],
   "source": [
    "%%time\n",
    "cursor = 0\n",
    "steps = 0\n",
    "while 0 <= cursor < n:\n",
    "    offset = instructions[cursor]\n",
    "    instructions[cursor] += 1 if offset < 3 else -1\n",
    "    cursor += offset\n",
    "    steps += 1\n",
    "\n",
    "print(offset, cursor, steps)"
   ]
  },
  {
   "cell_type": "markdown",
   "metadata": {},
   "source": [
    "# Day 6: Memory Reallocation"
   ]
  },
  {
   "cell_type": "code",
   "execution_count": 20,
   "metadata": {},
   "outputs": [],
   "source": [
    "data = \"11\t11\t13\t7\t0\t15\t5\t5\t4\t4\t1\t1\t7\t1\t15\t11\""
   ]
  },
  {
   "cell_type": "code",
   "execution_count": 21,
   "metadata": {},
   "outputs": [
    {
     "data": {
      "text/plain": [
       "[11, 11, 13, 7, 0, 15, 5, 5, 4, 4, 1, 1, 7, 1, 15, 11]"
      ]
     },
     "execution_count": 21,
     "metadata": {},
     "output_type": "execute_result"
    }
   ],
   "source": [
    "# Initial allocation\n",
    "allocation = [int(c) for c in data.split()]\n",
    "# allocation = [0, 2, 7, 0]\n",
    "allocation"
   ]
  },
  {
   "cell_type": "code",
   "execution_count": 22,
   "metadata": {},
   "outputs": [
    {
     "data": {
      "text/plain": [
       "(5, 15)"
      ]
     },
     "execution_count": 22,
     "metadata": {},
     "output_type": "execute_result"
    }
   ],
   "source": [
    "def arg_n_max(a):\n",
    "    \"\"\"\n",
    "    Arg 'n max: return index of and value of maximum element in given sequence.\n",
    "    Take first one in case of a tie.\n",
    "    \"\"\"\n",
    "    return max(enumerate(a), key=lambda e: (e[1], -e[0]))\n",
    "\n",
    "arg_n_max(allocation)"
   ]
  },
  {
   "cell_type": "code",
   "execution_count": 23,
   "metadata": {
    "scrolled": false
   },
   "outputs": [
    {
     "data": {
      "text/plain": [
       "(4074, 1281, 2793, [1, 0, 14, 14, 12, 12, 10, 10, 8, 8, 6, 6, 4, 3, 2, 1])"
      ]
     },
     "execution_count": 23,
     "metadata": {},
     "output_type": "execute_result"
    }
   ],
   "source": [
    "n = len(allocation)\n",
    "first_seen = {}\n",
    "\n",
    "def observe(allocation):\n",
    "    \"\"\"\n",
    "    Remember an observation and if we've seen it before: return when\n",
    "    \"\"\"\n",
    "    key = tuple(allocation)\n",
    "    if key in first_seen:\n",
    "        return first_seen[key]\n",
    "    first_seen[key] = len(first_seen)\n",
    "\n",
    "when = observe(allocation)\n",
    "while when is None:\n",
    "    i, blocks = arg_n_max(allocation)\n",
    "    # Take it out and redistribute\n",
    "    allocation[i] = 0\n",
    "    for m in range(i + 1, i + blocks + 1):\n",
    "        allocation[m % n] += 1\n",
    "    \n",
    "    # Observe and check if we've seen it before\n",
    "    when = observe(allocation)\n",
    "\n",
    "len(first_seen), when, len(first_seen) - when, allocation"
   ]
  },
  {
   "cell_type": "markdown",
   "metadata": {},
   "source": [
    "# Day 7: Recursive Circus"
   ]
  },
  {
   "cell_type": "code",
   "execution_count": 24,
   "metadata": {},
   "outputs": [
    {
     "name": "stdout",
     "output_type": "stream",
     "text": [
      "yvpwz (50)\r\n",
      "vfosh (261) -> aziwd, tubze, dhjrv\r\n",
      "xtvawvt (19)\r\n",
      "nspsk (24)\r\n",
      "sgtfap (19) -> bohjocj, bqvzg\r\n",
      "oyuteie (52)\r\n",
      "irrpz (226) -> cibfe, hemjsj, upbldz\r\n",
      "vtvku (426)\r\n",
      "vbsfwqh (6055) -> govhrck, pglpu, rwuflbi, ppgaoz\r\n",
      "nupmnv (47) -> cngdg, olgsb, lmvmb\r\n"
     ]
    }
   ],
   "source": [
    "!head data/day07-input.txt"
   ]
  },
  {
   "cell_type": "code",
   "execution_count": 25,
   "metadata": {},
   "outputs": [
    {
     "data": {
      "text/plain": [
       "{'mwzaxaj'}"
      ]
     },
     "execution_count": 25,
     "metadata": {},
     "output_type": "execute_result"
    }
   ],
   "source": [
    "import re\n",
    "regex = re.compile(r'(?P<parent>\\w+)\\s+\\((?P<weight>\\d+)\\)(\\s+->\\s+(?P<children>(\\w+,\\s*)*\\w+))?')\n",
    "all_programs = set()\n",
    "sub_programs = set()\n",
    "with open('data/day07-input.txt') as f:\n",
    "    for mo in regex.finditer(f.read()):\n",
    "        parent, children = mo.group('parent', 'children')\n",
    "        all_programs.add(parent)\n",
    "        if children:\n",
    "            sub_programs.update(c.strip() for c in children.split(','))\n",
    "\n",
    "all_programs.difference(sub_programs)"
   ]
  },
  {
   "cell_type": "markdown",
   "metadata": {},
   "source": [
    "## Part 2"
   ]
  },
  {
   "cell_type": "code",
   "execution_count": 26,
   "metadata": {},
   "outputs": [
    {
     "name": "stdout",
     "output_type": "stream",
     "text": [
      "vrgxe: total weight 2166 differs from target 2159, so own weight 1226 should be 1219\n",
      "Unbalanced children ['vrgxe', 'shnqfh', 'auzded', 'hkhsc', 'jwddn', 'mcxki', 'lhwyt']\n"
     ]
    }
   ],
   "source": [
    "import collections\n",
    "# Load tower data\n",
    "tower = {}\n",
    "with open('data/day07-input.txt') as f:\n",
    "    for mo in regex.finditer(f.read()):\n",
    "        parent, weight, children = mo.group('parent', 'weight', 'children')\n",
    "        tower[parent] = (\n",
    "            int(weight), \n",
    "            [c.strip() for c in children.split(',')] if children else []\n",
    "        )\n",
    "\n",
    "# Check weights\n",
    "def check(name):\n",
    "    \"\"\"\n",
    "    Check subtowers and get total weight\n",
    "    \"\"\"\n",
    "    own_weight, children = tower[name]\n",
    "    sub_weights = dict((c, check(c)) for c in children)\n",
    "    sub_weight_histogram = collections.Counter(sub_weights.values())\n",
    "    if len(sub_weight_histogram) > 1:\n",
    "        target_weight = max(sub_weight_histogram.items(), key=lambda e: e[1])[0]\n",
    "        for c in children:\n",
    "            if sub_weights[c] != target_weight:\n",
    "                print('{c}: total weight {t} differs from target {a}, so own weight {o} should be {q}'.format(\n",
    "                    c=c, o=tower[c][0], t=sub_weights[c], a=target_weight, \n",
    "                    q=tower[c][0] - (sub_weights[c] - target_weight)\n",
    "                ))\n",
    "        raise ValueError('Unbalanced children {c}'.format(c=children))\n",
    "    return own_weight + sum(sub_weights.values())\n",
    "\n",
    "try:\n",
    "    check('mwzaxaj')\n",
    "except Exception as e:\n",
    "    print(e)"
   ]
  },
  {
   "cell_type": "markdown",
   "metadata": {},
   "source": [
    "# Day 8: I Heard You Like Registers"
   ]
  },
  {
   "cell_type": "code",
   "execution_count": 27,
   "metadata": {},
   "outputs": [
    {
     "name": "stdout",
     "output_type": "stream",
     "text": [
      "hwv inc 149 if clj >= -5\r\n",
      "or inc 530 if hwv > 144\r\n",
      "d inc 131 if f < 1\r\n",
      "gnz dec -236 if jp != 0\r\n",
      "mu dec 266 if sp >= -6\r\n",
      "t inc -146 if w >= 8\r\n",
      "w dec 825 if jp != 3\r\n",
      "cto dec 403 if ino != 0\r\n",
      "ino inc 17 if sp != 0\r\n",
      "bt inc -341 if sp != 6\r\n"
     ]
    }
   ],
   "source": [
    "!head data/day08-input.txt"
   ]
  },
  {
   "cell_type": "code",
   "execution_count": 28,
   "metadata": {},
   "outputs": [
    {
     "data": {
      "text/plain": [
       "(5849, 6702)"
      ]
     },
     "execution_count": 28,
     "metadata": {},
     "output_type": "execute_result"
    }
   ],
   "source": [
    "import re\n",
    "import collections\n",
    "\n",
    "def condition_eval(a, rel, b):\n",
    "    return {\n",
    "        '>=': lambda a, b: a >= b,\n",
    "        '>': lambda a, b: a > b,\n",
    "        '<': lambda a, b: a < b,\n",
    "        '<=': lambda a, b: a <= b,\n",
    "        '==': lambda a, b: a == b,\n",
    "        '!=': lambda a, b: a != b,\n",
    "    }[rel](a, b)\n",
    "\n",
    "registers = collections.defaultdict(int)\n",
    "max_value = None\n",
    "with open('data/day08-input.txt') as f:\n",
    "    for line in f:\n",
    "        name, op, amount, if_, cond_name, cond_rel, cond_val = line.split()\n",
    "        if condition_eval(registers[cond_name], cond_rel, int(cond_val)):\n",
    "            registers[name] += {'inc': 1, 'dec': -1}[op] * int(amount)\n",
    "            max_value = registers[name] if max_value is None else max(max_value, registers[name])\n",
    "        \n",
    "max(registers.values()), max_value\n",
    "        "
   ]
  },
  {
   "cell_type": "markdown",
   "metadata": {},
   "source": [
    "# Day 9: Stream Processing"
   ]
  },
  {
   "cell_type": "code",
   "execution_count": 29,
   "metadata": {},
   "outputs": [
    {
     "name": "stdout",
     "output_type": "stream",
     "text": [
      "{{{{{{<e<{!i!>},<oe'!><!}}\"ao,o>},{{},<!!!>e}\"!!!!!>!}!>,<\",!}!>},<{>}},{<{e!!i{\"!!!>!!!>>,{<!!e!>},"
     ]
    }
   ],
   "source": [
    "!head -c100 data/day09-input.txt"
   ]
  },
  {
   "cell_type": "code",
   "execution_count": 30,
   "metadata": {
    "scrolled": true
   },
   "outputs": [],
   "source": [
    "def parse_stream(stream):\n",
    "    depth = 0\n",
    "    in_garbage = False\n",
    "    escape = False\n",
    "    score = 0\n",
    "    garbage_size = 0\n",
    "    for c in stream:\n",
    "        if not in_garbage:\n",
    "            if c == '{':\n",
    "                depth += 1\n",
    "                score += depth\n",
    "            elif c == '<':\n",
    "                in_garbage = True\n",
    "            elif c == ',':\n",
    "                pass\n",
    "            elif c == '}':\n",
    "                depth -= 1\n",
    "            else:\n",
    "                raise ValueError('Unexpected character {c!r}'.format(c=c))\n",
    "        else:\n",
    "            if escape:\n",
    "                escape = False\n",
    "            elif c == '!':\n",
    "                escape = True\n",
    "            elif c == '>':\n",
    "                in_garbage = False\n",
    "            else:\n",
    "                garbage_size += 1\n",
    "    return score, garbage_size"
   ]
  },
  {
   "cell_type": "code",
   "execution_count": 31,
   "metadata": {},
   "outputs": [
    {
     "name": "stdout",
     "output_type": "stream",
     "text": [
      "(1, 0) {}\n",
      "(6, 0) {{{}}}\n",
      "(5, 0) {{},{}}\n",
      "(16, 0) {{{},{},{{}}}}\n",
      "(1, 4) {<a>,<a>,<a>,<a>}\n",
      "(9, 8) {{<ab>},{<ab>},{<ab>},{<ab>}}\n",
      "(9, 0) {{<!!>},{<!!>},{<!!>},{<!!>}}\n",
      "(3, 17) {{<a!>},{<a!>},{<a!>},{<ab>}}\n",
      "(0, 0) <>\n",
      "(0, 17) <random characters>\n",
      "(0, 3) <<<<>\n",
      "(0, 2) <{!>}>\n",
      "(0, 0) <!!>\n",
      "(0, 0) <!!!>>\n",
      "(0, 10) <{o\"i!a,<{i<a>\n"
     ]
    }
   ],
   "source": [
    "examples = [\n",
    "    '{}',\n",
    "    '{{{}}}', \n",
    "    '{{},{}}',\n",
    "    '{{{},{},{{}}}}', \n",
    "    '{<a>,<a>,<a>,<a>}', \n",
    "    '{{<ab>},{<ab>},{<ab>},{<ab>}}', \n",
    "    '{{<!!>},{<!!>},{<!!>},{<!!>}}',\n",
    "    '{{<a!>},{<a!>},{<a!>},{<ab>}}',\n",
    "    '<>',\n",
    "    '<random characters>',\n",
    "    '<<<<>',\n",
    "    '<{!>}>',\n",
    "    '<!!>',\n",
    "    '<!!!>>',\n",
    "    '<{o\"i!a,<{i<a>',\n",
    "]\n",
    "for stream in examples:\n",
    "    print(parse_stream(stream), stream)"
   ]
  },
  {
   "cell_type": "code",
   "execution_count": 32,
   "metadata": {},
   "outputs": [
    {
     "data": {
      "text/plain": [
       "(8337, 4330)"
      ]
     },
     "execution_count": 32,
     "metadata": {},
     "output_type": "execute_result"
    }
   ],
   "source": [
    "with open('data/day09-input.txt') as f:\n",
    "    stream = f.read().strip()\n",
    "    \n",
    "parse_stream(stream)"
   ]
  },
  {
   "cell_type": "code",
   "execution_count": null,
   "metadata": {},
   "outputs": [],
   "source": []
  },
  {
   "cell_type": "code",
   "execution_count": null,
   "metadata": {},
   "outputs": [],
   "source": []
  }
 ],
 "metadata": {
  "kernelspec": {
   "display_name": "Python 3",
   "language": "python",
   "name": "python3"
  },
  "language_info": {
   "codemirror_mode": {
    "name": "ipython",
    "version": 3
   },
   "file_extension": ".py",
   "mimetype": "text/x-python",
   "name": "python",
   "nbconvert_exporter": "python",
   "pygments_lexer": "ipython3",
   "version": "3.6.3"
  }
 },
 "nbformat": 4,
 "nbformat_minor": 2
}
